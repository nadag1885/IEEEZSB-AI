{
 "cells": [
  {
   "cell_type": "markdown",
   "metadata": {},
   "source": [
    "# Drawing Conclusions Quiz\n",
    "Use the space below to explore `store_data.csv` to answer the quiz questions below."
   ]
  },
  {
   "cell_type": "code",
   "execution_count": null,
   "metadata": {},
   "outputs": [],
   "source": [
    "# Do your analysis and answer the following (type your answers !! do not throw the code in there and submit the file)\n",
    "\n",
    "# Which store has the highest total sales for the final month of data? (storeA    25127)\n",
    "# Which store makes the most sales on average? (storeB     6756.71)\n",
    "# Which store sells the most during the week of March 13th, 2016? (storeD    5513)\n",
    "# In what week does store C make its worst sales? '2014-07-06' \n",
    "# Which store has the most sales in the latest 3-month period? (storeA    87591)\n",
    "# What is the most consistent store in sales ? (storeA) \n",
    "# Given the information you gathered, what do you think is the best store financially? (storeA)"
   ]
  },
  {
   "cell_type": "code",
   "execution_count": 55,
   "metadata": {},
   "outputs": [
    {
     "data": {
      "text/html": [
       "<div>\n",
       "<style scoped>\n",
       "    .dataframe tbody tr th:only-of-type {\n",
       "        vertical-align: middle;\n",
       "    }\n",
       "\n",
       "    .dataframe tbody tr th {\n",
       "        vertical-align: top;\n",
       "    }\n",
       "\n",
       "    .dataframe thead th {\n",
       "        text-align: right;\n",
       "    }\n",
       "</style>\n",
       "<table border=\"1\" class=\"dataframe\">\n",
       "  <thead>\n",
       "    <tr style=\"text-align: right;\">\n",
       "      <th></th>\n",
       "      <th>week</th>\n",
       "      <th>storeA</th>\n",
       "      <th>storeB</th>\n",
       "      <th>storeC</th>\n",
       "      <th>storeD</th>\n",
       "      <th>storeE</th>\n",
       "    </tr>\n",
       "  </thead>\n",
       "  <tbody>\n",
       "    <tr>\n",
       "      <th>195</th>\n",
       "      <td>2018-01-28</td>\n",
       "      <td>282</td>\n",
       "      <td>6351</td>\n",
       "      <td>7759</td>\n",
       "      <td>5558</td>\n",
       "      <td>1028</td>\n",
       "    </tr>\n",
       "    <tr>\n",
       "      <th>196</th>\n",
       "      <td>2018-02-04</td>\n",
       "      <td>4853</td>\n",
       "      <td>6503</td>\n",
       "      <td>4187</td>\n",
       "      <td>5956</td>\n",
       "      <td>1458</td>\n",
       "    </tr>\n",
       "    <tr>\n",
       "      <th>197</th>\n",
       "      <td>2018-02-11</td>\n",
       "      <td>9202</td>\n",
       "      <td>3677</td>\n",
       "      <td>4540</td>\n",
       "      <td>6186</td>\n",
       "      <td>243</td>\n",
       "    </tr>\n",
       "    <tr>\n",
       "      <th>198</th>\n",
       "      <td>2018-02-18</td>\n",
       "      <td>3512</td>\n",
       "      <td>7511</td>\n",
       "      <td>4151</td>\n",
       "      <td>5596</td>\n",
       "      <td>3501</td>\n",
       "    </tr>\n",
       "    <tr>\n",
       "      <th>199</th>\n",
       "      <td>2018-02-25</td>\n",
       "      <td>7560</td>\n",
       "      <td>6904</td>\n",
       "      <td>3569</td>\n",
       "      <td>5045</td>\n",
       "      <td>2585</td>\n",
       "    </tr>\n",
       "  </tbody>\n",
       "</table>\n",
       "</div>"
      ],
      "text/plain": [
       "           week  storeA  storeB  storeC  storeD  storeE\n",
       "195  2018-01-28     282    6351    7759    5558    1028\n",
       "196  2018-02-04    4853    6503    4187    5956    1458\n",
       "197  2018-02-11    9202    3677    4540    6186     243\n",
       "198  2018-02-18    3512    7511    4151    5596    3501\n",
       "199  2018-02-25    7560    6904    3569    5045    2585"
      ]
     },
     "execution_count": 55,
     "metadata": {},
     "output_type": "execute_result"
    }
   ],
   "source": [
    "# import and load the data\n",
    "import pandas as pd\n",
    "from datetime import datetime, timedelta\n",
    "df=pd.read_csv('store_data.csv')\n",
    "df.tail()"
   ]
  },
  {
   "cell_type": "code",
   "execution_count": 3,
   "metadata": {},
   "outputs": [
    {
     "name": "stdout",
     "output_type": "stream",
     "text": [
      "<class 'pandas.core.frame.DataFrame'>\n",
      "RangeIndex: 200 entries, 0 to 199\n",
      "Data columns (total 6 columns):\n",
      " #   Column  Non-Null Count  Dtype \n",
      "---  ------  --------------  ----- \n",
      " 0   week    200 non-null    object\n",
      " 1   storeA  200 non-null    int64 \n",
      " 2   storeB  200 non-null    int64 \n",
      " 3   storeC  200 non-null    int64 \n",
      " 4   storeD  200 non-null    int64 \n",
      " 5   storeE  200 non-null    int64 \n",
      "dtypes: int64(5), object(1)\n",
      "memory usage: 9.5+ KB\n"
     ]
    }
   ],
   "source": [
    "# explore the data (gather as much information as you can)\n",
    "df.info()"
   ]
  },
  {
   "cell_type": "code",
   "execution_count": 5,
   "metadata": {},
   "outputs": [
    {
     "data": {
      "text/plain": [
       "0"
      ]
     },
     "execution_count": 5,
     "metadata": {},
     "output_type": "execute_result"
    }
   ],
   "source": [
    "# clean the data\n",
    "sum(df.duplicated())\n",
    "# I don't have to clean the data because it's already clean"
   ]
  },
  {
   "cell_type": "code",
   "execution_count": 34,
   "metadata": {},
   "outputs": [
    {
     "data": {
      "text/plain": [
       "storeA    25127\n",
       "storeB    24595\n",
       "storeC    16447\n",
       "storeD    22783\n",
       "storeE     7787\n",
       "dtype: int64"
      ]
     },
     "execution_count": 34,
     "metadata": {},
     "output_type": "execute_result"
    }
   ],
   "source": [
    "# total sales for the last month\n",
    "df['week'] = pd.to_datetime(df['week'])\n",
    "feb_sales=df[(df['week'].dt.month == 2)]\n",
    "last_year=feb_sales[(feb_sales['week'].dt.year == 2018)]\n",
    "total_sales=last_year.sum(numeric_only=True)\n",
    "total_sales\n",
    "# total_sales.sum()\n"
   ]
  },
  {
   "cell_type": "code",
   "execution_count": 27,
   "metadata": {},
   "outputs": [
    {
     "data": {
      "text/plain": [
       "week      2016-03-30 12:00:00\n",
       "storeA                5865.48\n",
       "storeB                6756.71\n",
       "storeC               4942.105\n",
       "storeD               5431.405\n",
       "storeE               2580.025\n",
       "dtype: object"
      ]
     },
     "execution_count": 27,
     "metadata": {},
     "output_type": "execute_result"
    }
   ],
   "source": [
    "# average sales\n",
    "df.mean()"
   ]
  },
  {
   "cell_type": "code",
   "execution_count": 29,
   "metadata": {},
   "outputs": [
    {
     "data": {
      "text/plain": [
       "storeA    2054\n",
       "storeB    1390\n",
       "storeC    5112\n",
       "storeD    5513\n",
       "storeE    2536\n",
       "dtype: int64"
      ]
     },
     "execution_count": 29,
     "metadata": {},
     "output_type": "execute_result"
    }
   ],
   "source": [
    "# sales on march 13, 2016\n",
    "sales=df[(df['week']=='2016-03-13')]\n",
    "sales.sum(numeric_only=True)"
   ]
  },
  {
   "cell_type": "code",
   "execution_count": 49,
   "metadata": {},
   "outputs": [
    {
     "data": {
      "text/plain": [
       "Timestamp('2014-07-06 00:00:00')"
      ]
     },
     "execution_count": 49,
     "metadata": {},
     "output_type": "execute_result"
    }
   ],
   "source": [
    "# worst week for store C\n",
    "stord=df.sort_values('storeC')\n",
    "worst=stord.iloc[0]\n",
    "worst['week']\n"
   ]
  },
  {
   "cell_type": "code",
   "execution_count": 58,
   "metadata": {
    "scrolled": false
   },
   "outputs": [
    {
     "data": {
      "text/plain": [
       "storeA    87591\n",
       "storeB    79394\n",
       "storeC    66538\n",
       "storeD    75190\n",
       "storeE    27334\n",
       "dtype: int64"
      ]
     },
     "execution_count": 58,
     "metadata": {},
     "output_type": "execute_result"
    }
   ],
   "source": [
    "# total sales during most recent 3 month period\n",
    "df['week'] = pd.to_datetime(df['week'])\n",
    "last_day=df.sort_values('week',ascending=False).iloc[0]['week']\n",
    "start_date = last_day - timedelta(days=90)\n",
    "recent_sales = df[(df['week'] >= start_date)]\n",
    "recent_sales.sum(numeric_only=True)"
   ]
  },
  {
   "cell_type": "code",
   "execution_count": null,
   "metadata": {},
   "outputs": [],
   "source": [
    "# Go back to the top and answer the questions"
   ]
  }
 ],
 "metadata": {
  "kernelspec": {
   "display_name": "Python 3 (ipykernel)",
   "language": "python",
   "name": "python3"
  },
  "language_info": {
   "codemirror_mode": {
    "name": "ipython",
    "version": 3
   },
   "file_extension": ".py",
   "mimetype": "text/x-python",
   "name": "python",
   "nbconvert_exporter": "python",
   "pygments_lexer": "ipython3",
   "version": "3.11.1"
  }
 },
 "nbformat": 4,
 "nbformat_minor": 2
}
