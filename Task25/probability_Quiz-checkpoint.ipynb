{
 "cells": [
  {
   "cell_type": "markdown",
   "metadata": {},
   "source": [
    "# Coin Flips and Die Rolls\n",
    "Use NumPy to create simulations and compute proportions for the following outcomes. The first one is done for you.\n",
    "\n",
    "**Please note again that we are using 0 to represent heads, and 1 to represent tails.**"
   ]
  },
  {
   "cell_type": "markdown",
   "metadata": {},
   "source": [
    "### In this quiz, you will simulate coin flips and die rolls to compute proportions for the following outcomes.\n",
    "* Two fair coin flips produce exactly two heads.\n",
    "* Three fair coin flips produce exactly one head.\n",
    "* Three biased coin flips with P(H) = 0.6 produce exactly one head.\n",
    "* A die rolls an even number.\n",
    "* Two dice roll a double.\n",
    "\n",
    "Then, you'll compare these proportions with probabilities in the quizzes below.\n",
    "\n",
    "When simulating coin flips, use 0 to represent heads and 1 to represent tails. When simulating die rolls, use the correct integers to match the numbers on the sides of a standard 6 sided die.\n",
    "\n",
    "Also, notice that you can look at the solutions if you get stuck by clicking the orange button in the top left or check the solution link at the bottom of the page.\n"
   ]
  },
  {
   "cell_type": "code",
   "execution_count": 1,
   "metadata": {},
   "outputs": [],
   "source": [
    "# import numpy\n",
    "import numpy as np"
   ]
  },
  {
   "cell_type": "markdown",
   "metadata": {},
   "source": [
    "### 1. Two fair coin flips produce exactly two heads"
   ]
  },
  {
   "cell_type": "code",
   "execution_count": 43,
   "metadata": {},
   "outputs": [
    {
     "data": {
      "text/plain": [
       "0.24983"
      ]
     },
     "execution_count": 43,
     "metadata": {},
     "output_type": "execute_result"
    }
   ],
   "source": [
    "# simulate 1 million tests of two fair coin flips\n",
    "coin_flips = np.random.binomial(n=2, p=0.5, size=1000000)\n",
    "\n",
    "# sums of all tests\n",
    "sums=coin_flips.sum()\n",
    "\n",
    "# proportion of tests that produced exactly two heads\n",
    "len(coin_flips[coin_flips == 2]) / 1000000"
   ]
  },
  {
   "cell_type": "markdown",
   "metadata": {},
   "source": [
    "### 2. Three fair coin flips produce exactly one head"
   ]
  },
  {
   "cell_type": "code",
   "execution_count": 44,
   "metadata": {},
   "outputs": [
    {
     "data": {
      "text/plain": [
       "0.375885"
      ]
     },
     "execution_count": 44,
     "metadata": {},
     "output_type": "execute_result"
    }
   ],
   "source": [
    "# simulate 1 million tests of three fair coin flips\n",
    "coin_flips = np.random.binomial(n=3, p=0.5, size=1000000)\n",
    "\n",
    "# sums of all tests\n",
    "sums=coin_flips.sum()\n",
    "\n",
    "# proportion of tests that produced exactly one head\n",
    "len(coin_flips[coin_flips == 1]) / 1000000"
   ]
  },
  {
   "cell_type": "markdown",
   "metadata": {},
   "source": [
    "### 3. Three biased coin flips with P(H) = 0.6 produce exactly one head"
   ]
  },
  {
   "cell_type": "code",
   "execution_count": 46,
   "metadata": {},
   "outputs": [
    {
     "data": {
      "text/plain": [
       "0.287716"
      ]
     },
     "execution_count": 46,
     "metadata": {},
     "output_type": "execute_result"
    }
   ],
   "source": [
    "# simulate 1 million tests of three biased coin flips\n",
    "# hint: use np.random.choice()\n",
    "coin_flips = np.random.choice([0, 1], size=(1000000, 3), p=[0.4, 0.6])\n",
    "\n",
    "# sums of all tests\n",
    "sums = coin_flips.sum(axis =1)\n",
    "\n",
    "# proportion of tests that produced exactly one head\n",
    "len(sums[sums == 1]) / 1000000\n"
   ]
  },
  {
   "cell_type": "markdown",
   "metadata": {},
   "source": [
    "### 4. A die rolls an even number"
   ]
  },
  {
   "cell_type": "code",
   "execution_count": 47,
   "metadata": {},
   "outputs": [
    {
     "data": {
      "text/plain": [
       "0.499845"
      ]
     },
     "execution_count": 47,
     "metadata": {},
     "output_type": "execute_result"
    }
   ],
   "source": [
    "# simulate 1 million tests of one die roll\n",
    "die_rolls = np.random.randint(1, 7, size=1000000)\n",
    "\n",
    "\n",
    "# proportion of tests that produced an even number\n",
    "num_even_rolls = np.sum(die_rolls % 2 == 0)\n",
    "num_even_rolls/1000000"
   ]
  },
  {
   "cell_type": "markdown",
   "metadata": {},
   "source": [
    "### 5. Two dice roll a double"
   ]
  },
  {
   "cell_type": "code",
   "execution_count": 48,
   "metadata": {},
   "outputs": [
    {
     "data": {
      "text/plain": [
       "0.167181"
      ]
     },
     "execution_count": 48,
     "metadata": {},
     "output_type": "execute_result"
    }
   ],
   "source": [
    "# simulate the first million die rolls\n",
    "die_rolls1 = np.random.randint(1, 7, size=1000000)\n",
    "\n",
    "# simulate the second million die rolls\n",
    "die_rolls2 = np.random.randint(1, 7, size=1000000)\n",
    "\n",
    "\n",
    "# proportion of tests where the 1st and 2nd die rolled the same number\n",
    "len(die_rolls1[die_rolls1 == die_rolls2]) / 1000000\n"
   ]
  },
  {
   "cell_type": "code",
   "execution_count": null,
   "metadata": {},
   "outputs": [],
   "source": []
  }
 ],
 "metadata": {
  "kernelspec": {
   "display_name": "Python 3 (ipykernel)",
   "language": "python",
   "name": "python3"
  },
  "language_info": {
   "codemirror_mode": {
    "name": "ipython",
    "version": 3
   },
   "file_extension": ".py",
   "mimetype": "text/x-python",
   "name": "python",
   "nbconvert_exporter": "python",
   "pygments_lexer": "ipython3",
   "version": "3.11.4"
  }
 },
 "nbformat": 4,
 "nbformat_minor": 4
}
